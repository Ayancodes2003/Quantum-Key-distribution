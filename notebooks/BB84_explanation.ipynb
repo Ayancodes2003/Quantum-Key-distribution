{
 "cells": [
  {
   "cell_type": "markdown",
   "metadata": {},
   "source": [
    "# BB84 Protocol Explanation and Simulation\n",
    "\n",
    "## Introduction\n",
    "The BB84 protocol is the first quantum key distribution protocol, proposed by Charles Bennett and Gilles Brassard in 1984. It allows two parties, Alice and Bob, to generate a secure key for communication, even in the presence of an eavesdropper, Eve.\n",
    "\n",
    "## Key Concepts\n",
    "- **Quantum States**: The protocol uses quantum states to encode bits.\n",
    "- **Polarization**: Photons can be polarized in different bases (e.g., horizontal/vertical or diagonal).\n",
    "- **Measurement**: When a photon is measured, it can only be detected in the basis used for the measurement.\n",
    "\n",
    "## Simulation of the BB84 Protocol\n",
    "Let's simulate the BB84 protocol using our implementation.\n"
   ]
  },
  {
   "cell_type": "code",
   "execution_count": 8,
   "metadata": {},
   "outputs": [],
   "source": [
    "import sys\n",
    "import os\n",
    "\n",
    "# Move up to the parent directory to access the 'src' folder\n",
    "sys.path.append(os.path.abspath(os.path.join('..', 'src')))\n",
    "\n",
    "# Now import the BB84 class\n",
    "from bb84 import BB84\n"
   ]
  },
  {
   "cell_type": "code",
   "execution_count": 9,
   "metadata": {},
   "outputs": [],
   "source": [
    "import matplotlib.pyplot as plt"
   ]
  },
  {
   "cell_type": "code",
   "execution_count": 10,
   "metadata": {},
   "outputs": [
    {
     "name": "stdout",
     "output_type": "stream",
     "text": [
      "Alice's Key:  [np.int32(0), np.int32(0), np.int32(0), np.int32(0), np.int32(0), np.int32(1), np.int32(0), np.int32(0), np.int32(0), np.int32(1), np.int32(1), np.int32(0), np.int32(0), np.int32(0), np.int32(1), np.int32(0), np.int32(0), np.int32(1), np.int32(1), np.int32(1), np.int32(1), np.int32(1), np.int32(0), np.int32(1), np.int32(0), np.int32(1), np.int32(0), np.int32(1), np.int32(1), np.int32(0), np.int32(0), np.int32(1), np.int32(1), np.int32(0), np.int32(0), np.int32(1), np.int32(1), np.int32(1), np.int32(1), np.int32(1), np.int32(0), np.int32(0), np.int32(0), np.int32(0), np.int32(1), np.int32(1), np.int32(0), np.int32(0), np.int32(0), np.int32(0), np.int32(1), np.int32(0), np.int32(0)]\n",
      "Bob's Key:  [0, 0, 0, 0, 0, 1, 0, 0, 0, 1, 1, 0, 0, 0, 1, 0, 0, 1, 1, 1, 1, 1, 0, 1, 0, 1, 0, 1, 1, 0, 0, 1, 1, 0, 0, 1, 1, 1, 1, 1, 0, 0, 0, 0, 1, 1, 0, 0, 0, 0, 1, 0, 0]\n"
     ]
    },
    {
     "data": {
      "image/png": "[encoded data removed]",
      "text/plain": [
       "<Figure size 1000x600 with 1 Axes>"
      ]
     },
     "metadata": {},
     "output_type": "display_data"
    }
   ],
   "source": [
    "# Set up BB84 simulation\n",
    "bb84 = BB84(photon_count=100)  # 100 photons\n",
    "bb84.generate_key()\n",
    "\n",
    "# Get Alice's and Bob's final keys\n",
    "alice_key, bob_key = bb84.get_reconciled_key()\n",
    "\n",
    "# Display the keys\n",
    "print(\"Alice's Key: \", alice_key)\n",
    "print(\"Bob's Key: \", bob_key)\n",
    "\n",
    "# Plotting the results\n",
    "plt.figure(figsize=(10, 6))\n",
    "plt.hist([alice_key, bob_key], bins=2, alpha=0.5, label=['Alice\\'s Key', 'Bob\\'s Key'], color=['blue', 'orange'])\n",
    "plt.title('Distribution of Alice\\'s and Bob\\'s Key Bits')\n",
    "plt.xlabel('Key Bits')\n",
    "plt.ylabel('Frequency')\n",
    "plt.xticks([0, 1])\n",
    "plt.legend()\n",
    "plt.show()"
   ]
  },
  {
   "cell_type": "markdown",
   "metadata": {},
   "source": [
    "\n",
    "# Eve's Attack Demonstration\n",
    "\n",
    "## Introduction\n",
    "In this notebook, we will demonstrate how an eavesdropper (Eve) can attempt to intercept the key being generated between Alice and Bob. We will show how Eve's interference can be detected.\n",
    "\n",
    "## Eavesdropping Simulation\n",
    "Let's simulate the eavesdropping process using our implementation.\n"
   ]
  },
  {
   "cell_type": "code",
   "execution_count": 12,
   "metadata": {},
   "outputs": [],
   "source": [
    "import sys\n",
    "import os\n",
    "\n",
    "# Adjust the path to include the src directory\n",
    "sys.path.append(os.path.abspath(os.path.join('..', 'src')))\n"
   ]
  },
  {
   "cell_type": "code",
   "execution_count": 15,
   "metadata": {},
   "outputs": [],
   "source": [
    "import sys\n",
    "import os\n",
    "\n",
    "# Add the src directory to the Python path\n",
    "src_path = os.path.abspath(os.path.join('..', 'src'))\n",
    "sys.path.append(src_path)\n",
    "\n",
    "# Import necessary classes\n",
    "from bb84 import BB84\n",
    "from eavesdropper_simulation import Eavesdropper\n"
   ]
  },
  {
   "cell_type": "code",
   "execution_count": 16,
   "metadata": {},
   "outputs": [
    {
     "ename": "AttributeError",
     "evalue": "'BB84' object has no attribute 'sent_photons'",
     "output_type": "error",
     "traceback": [
      "\u001b[1;31m---------------------------------------------------------------------------\u001b[0m",
      "\u001b[1;31mAttributeError\u001b[0m                            Traceback (most recent call last)",
      "Cell \u001b[1;32mIn[16], line 7\u001b[0m\n\u001b[0;32m      5\u001b[0m \u001b[38;5;66;03m# Simulate Eve's interception\u001b[39;00m\n\u001b[0;32m      6\u001b[0m eve \u001b[38;5;241m=\u001b[39m Eavesdropper()\n\u001b[1;32m----> 7\u001b[0m photons \u001b[38;5;241m=\u001b[39m \u001b[43mbb84\u001b[49m\u001b[38;5;241;43m.\u001b[39;49m\u001b[43msent_photons\u001b[49m  \u001b[38;5;66;03m# Ensure you're accessing the correct property\u001b[39;00m\n\u001b[0;32m      8\u001b[0m eve_measurements, eve_bases \u001b[38;5;241m=\u001b[39m eve\u001b[38;5;241m.\u001b[39mintercept_photons(photons)\n\u001b[0;32m     10\u001b[0m \u001b[38;5;66;03m# Display Eve's results\u001b[39;00m\n",
      "\u001b[1;31mAttributeError\u001b[0m: 'BB84' object has no attribute 'sent_photons'"
     ]
    }
   ],
   "source": [
    "# Set up the BB84 protocol\n",
    "bb84 = BB84(photon_count=100)\n",
    "bb84.generate_key()\n",
    "\n",
    "# Simulate Eve's interception\n",
    "eve = Eavesdropper()\n",
    "photons = bb84.sent_photons  # Ensure you're accessing the correct property\n",
    "eve_measurements, eve_bases = eve.intercept_photons(photons)\n",
    "\n",
    "# Display Eve's results\n",
    "print(\"Eve's Measurements: \", eve_measurements)\n",
    "print(\"Eve's Bases: \", eve_bases)\n",
    "\n",
    "# Detect if Eve has interfered\n",
    "is_interference_detected = bb84.detect_eavesdropper(eve_measurements)\n",
    "\n",
    "print(\"Eavesdropping Detected: \", is_interference_detected)\n"
   ]
  },
  {
   "cell_type": "code",
   "execution_count": null,
   "metadata": {},
   "outputs": [],
   "source": []
  },
  {
   "cell_type": "code",
   "execution_count": null,
   "metadata": {},
   "outputs": [],
   "source": []
  },
  {
   "cell_type": "code",
   "execution_count": null,
   "metadata": {},
   "outputs": [],
   "source": []
  }
 ],
 "metadata": {
  "kernelspec": {
   "display_name": "venv",
   "language": "python",
   "name": "python3"
  },
  "language_info": {
   "codemirror_mode": {
    "name": "ipython",
    "version": 3
   },
   "file_extension": ".py",
   "mimetype": "text/x-python",
   "name": "python",
   "nbconvert_exporter": "python",
   "pygments_lexer": "ipython3",
   "version": "3.12.6"
  }
 },
 "nbformat": 4,
 "nbformat_minor": 2
}
