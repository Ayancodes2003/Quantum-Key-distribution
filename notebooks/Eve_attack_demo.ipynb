{
 "cells": [
  {
   "cell_type": "code",
   "execution_count": 1,
   "metadata": {},
   "outputs": [
    {
     "ename": "AttributeError",
     "evalue": "'BB84' object has no attribute 'photons'",
     "output_type": "error",
     "traceback": [
      "\u001b[1;31m---------------------------------------------------------------------------\u001b[0m",
      "\u001b[1;31mAttributeError\u001b[0m                            Traceback (most recent call last)",
      "Cell \u001b[1;32mIn[1], line 18\u001b[0m\n\u001b[0;32m     16\u001b[0m \u001b[38;5;66;03m# Simulate Eve's interception\u001b[39;00m\n\u001b[0;32m     17\u001b[0m eve \u001b[38;5;241m=\u001b[39m Eavesdropper()\n\u001b[1;32m---> 18\u001b[0m photons \u001b[38;5;241m=\u001b[39m \u001b[43mbb84\u001b[49m\u001b[38;5;241;43m.\u001b[39;49m\u001b[43mphotons\u001b[49m  \u001b[38;5;66;03m# Access the photons generated in BB84\u001b[39;00m\n\u001b[0;32m     19\u001b[0m eve_measurements, eve_bases \u001b[38;5;241m=\u001b[39m eve\u001b[38;5;241m.\u001b[39mintercept_photons(photons)\n\u001b[0;32m     21\u001b[0m \u001b[38;5;66;03m# Display Eve's results\u001b[39;00m\n",
      "\u001b[1;31mAttributeError\u001b[0m: 'BB84' object has no attribute 'photons'"
     ]
    }
   ],
   "source": [
    "import sys\n",
    "import os\n",
    "\n",
    "# Ensure the src directory is in the path\n",
    "src_path = os.path.abspath(os.path.join('..', 'src'))\n",
    "sys.path.append(src_path)\n",
    "\n",
    "# Import classes\n",
    "from bb84 import BB84\n",
    "from eavesdropper_simulation import Eavesdropper\n",
    "\n",
    "# Set up the BB84 protocol\n",
    "bb84 = BB84(photon_count=100)\n",
    "bb84.generate_key()\n",
    "\n",
    "# Simulate Eve's interception\n",
    "eve = Eavesdropper()\n",
    "photons = bb84.photons  # Access the photons generated in BB84\n",
    "eve_measurements, eve_bases = eve.intercept_photons(photons)\n",
    "\n",
    "# Display Eve's results\n",
    "print(\"Eve's Measurements: \", eve_measurements)\n",
    "print(\"Eve's Bases: \", eve_bases)\n",
    "\n",
    "# Detect if Eve has interfered\n",
    "is_interference_detected = bb84.detect_eavesdropper(eve_measurements)\n",
    "\n",
    "print(\"Eavesdropping Detected: \", is_interference_detected)\n"
   ]
  },
  {
   "cell_type": "code",
   "execution_count": null,
   "metadata": {},
   "outputs": [],
   "source": [
    "import sys\n",
    "import os\n",
    "\n",
    "# Ensure the src directory is in the path\n",
    "src_path = os.path.abspath(os.path.join('..', 'src'))\n",
    "sys.path.append(src_path)\n",
    "\n",
    "# Import classes\n",
    "from bb84 import BB84\n",
    "from eavesdropper_simulation import Eavesdropper\n",
    "\n",
    "# Set up the BB84 protocol\n",
    "bb84 = BB84(photon_count=100)\n",
    "bb84.generate_key()\n",
    "\n",
    "# Simulate Eve's interception\n",
    "eve = Eavesdropper()\n",
    "photons = bb84.photons  # Access the photons generated in BB84\n",
    "eve_measurements, eve_bases = eve.intercept_photons(photons)\n",
    "\n",
    "# Display Eve's results\n",
    "print(\"Eve's Measurements: \", eve_measurements)\n",
    "print(\"Eve's Bases: \", eve_bases)\n",
    "\n",
    "# Detect if Eve has interfered\n",
    "is_interference_detected = bb84.detect_eavesdropper(eve_measurements)\n",
    "\n",
    "print(\"Eavesdropping Detected: \", is_interference_detected)\n"
   ]
  }
 ],
 "metadata": {
  "kernelspec": {
   "display_name": "venv",
   "language": "python",
   "name": "python3"
  },
  "language_info": {
   "codemirror_mode": {
    "name": "ipython",
    "version": 3
   },
   "file_extension": ".py",
   "mimetype": "text/x-python",
   "name": "python",
   "nbconvert_exporter": "python",
   "pygments_lexer": "ipython3",
   "version": "3.12.6"
  }
 },
 "nbformat": 4,
 "nbformat_minor": 2
}
